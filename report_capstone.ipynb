{
 "cells": [
  {
   "cell_type": "markdown",
   "metadata": {},
   "source": [
    "### Business Problem\n",
    "\n",
    "We work in a real estate development company in the city of São Caetano do Sul, a small city near São Paulo – Brazil. We work in the area of prospecting for new land and our main goal is to find the best potential neighborhoods in São Caetano to launch our new product. \n",
    "Our new product is designed for younger people and we want the that the neighborhood where the product will be launch has the profile of this audience. In our previous surveys, we could identify the following most important characteristics for our potential customers:\n",
    "\n",
    "    1.\tRestaurants;\n",
    "    2.\tGyms. \n",
    "\n",
    "So, we will use the geolocation of the neighborhoods of São Caetano do Sul and the data of API Foursquare to identify which 3 neighborhoods have the greatest number of these kinds of establishments. \n"
   ]
  },
  {
   "cell_type": "markdown",
   "metadata": {},
   "source": [
    "### Data\n",
    "\n",
    "To achieve our goal, we will use 2 different datasets:\n",
    "\n",
    "    1.\tGeolocation of the neighborhoods of São Caetano do Sul - This dataset has the information of name, latitude and longitude for the 15 neighborhoods of São Caetano do Sul;    \n",
    "    2.\tAPI Foursquare – This API allows you to search the information of establishments around a specific geographic position and we will use to get the information for a specific radius of neighborhoods of São Caetano do Sul. In detail, we will search for establishments within a radius of up to 500 meters from the center of each neighborhood and the API will respond to the names and categories of the establishments found. We will filter the categories of interest, like “Restaurant” and “Gym”. Lastly, we will summarize the occurrences of categories and compare the neighborhoods to identify the 3 best options. \n"
   ]
  }
 ],
 "metadata": {
  "kernelspec": {
   "display_name": "Python 3",
   "language": "python",
   "name": "python3"
  },
  "language_info": {
   "codemirror_mode": {
    "name": "ipython",
    "version": 3
   },
   "file_extension": ".py",
   "mimetype": "text/x-python",
   "name": "python",
   "nbconvert_exporter": "python",
   "pygments_lexer": "ipython3",
   "version": "3.8.3"
  }
 },
 "nbformat": 4,
 "nbformat_minor": 4
}
